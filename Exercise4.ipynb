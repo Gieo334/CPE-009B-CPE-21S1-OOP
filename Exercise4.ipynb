{
  "cells": [
    {
      "cell_type": "markdown",
      "metadata": {
        "id": "view-in-github",
        "colab_type": "text"
      },
      "source": [
        "<a href=\"https://colab.research.google.com/github/Gieo334/CPE-009B-CPE-21S1-OOP/blob/main/Exercise4.ipynb\" target=\"_parent\"><img src=\"https://colab.research.google.com/assets/colab-badge.svg\" alt=\"Open In Colab\"/></a>"
      ]
    },
    {
      "cell_type": "code",
      "source": [
        "class foo:\n",
        "    def __init__(self, a, b):\n",
        "        self.a = a\n",
        "        self.b = b\n",
        "\n",
        "    def add(self):\n",
        "        return self.a + self.b\n",
        "foo_object = Foo(3,4)\n",
        "result = foo_object.add()\n",
        "print(result)\n"
      ],
      "metadata": {
        "id": "sheU_xCILxMb",
        "outputId": "5da29945-7f02-4417-e833-ffa28ae1ca4f",
        "colab": {
          "base_uri": "https://localhost:8080/"
        }
      },
      "execution_count": 8,
      "outputs": [
        {
          "output_type": "stream",
          "name": "stdout",
          "text": [
            "7\n"
          ]
        }
      ]
    },
    {
      "cell_type": "code",
      "source": [
        "class Person:\n",
        "  def __init__(self,name,age):\n",
        "      self.name = name\n",
        "      self.age = age\n",
        "  def display(self):\n",
        "        return f\"My name is {self.name}, and my age is {self.age}\"\n",
        "\n",
        "p1=Person(\"bri\",20)\n",
        "p1.display()"
      ],
      "metadata": {
        "id": "E4Bjm59lOKvi",
        "outputId": "ac0ee22f-6405-4e85-f8f7-161ab708493c",
        "colab": {
          "base_uri": "https://localhost:8080/",
          "height": 35
        }
      },
      "execution_count": 13,
      "outputs": [
        {
          "output_type": "execute_result",
          "data": {
            "text/plain": [
              "'My name is bri, and my age is 20'"
            ],
            "application/vnd.google.colaboratory.intrinsic+json": {
              "type": "string"
            }
          },
          "metadata": {},
          "execution_count": 13
        }
      ]
    },
    {
      "cell_type": "code",
      "source": [
        "class Counter:\n",
        "    def __init__(self):\n",
        "        self.current = 0\n",
        "\n",
        "    def increment(self):\n",
        "        self.current += 1\n",
        "\n",
        "    def value(self):\n",
        "        return self.current\n",
        "\n",
        "    def reset(self):\n",
        "        self.current = 0\n",
        "\n",
        "\n",
        "counter = Counter()\n",
        "\n",
        "\n",
        "counter.increment()\n",
        "counter.increment()\n",
        "counter.increment()\n",
        "\n",
        "\n",
        "print(counter.value())"
      ],
      "metadata": {
        "id": "i7H5fhYtR79D",
        "outputId": "e9f0f8e4-20c7-48f6-c2a5-1839cd413086",
        "colab": {
          "base_uri": "https://localhost:8080/"
        }
      },
      "execution_count": 21,
      "outputs": [
        {
          "output_type": "stream",
          "name": "stdout",
          "text": [
            "3\n"
          ]
        }
      ]
    },
    {
      "cell_type": "code",
      "source": [
        "class RegularPolygon:\n",
        "    def __init__(self, side):\n",
        "        self.side = side\n",
        "\n",
        "class Square(RegularPolygon):\n",
        "    def area(self):\n",
        "        return self.side * self.side\n",
        "\n",
        "class EquilateralTriangle(RegularPolygon):\n",
        "    def area(self):\n",
        "        return self.side * self.side * 0.433\n",
        "\n",
        "\n",
        "square = Square(4)\n",
        "print(f\"Square area: {square.area()}\")\n",
        "\n",
        "triangle = EquilateralTriangle(4)\n",
        "print(f\"Equilateral Triangle area: {triangle.area()}\")\n"
      ],
      "metadata": {
        "id": "px6e9DWESsZj",
        "outputId": "6989e12f-b085-4d5d-b7b3-957a3e42219d",
        "colab": {
          "base_uri": "https://localhost:8080/"
        }
      },
      "execution_count": 23,
      "outputs": [
        {
          "output_type": "stream",
          "name": "stdout",
          "text": [
            "Square area: 16\n",
            "Equilateral Triangle area: 6.928\n"
          ]
        }
      ]
    },
    {
      "cell_type": "code",
      "source": [
        "class Person:\n",
        "    def __init__(self, std1, std2, std3, pre, mid, fin):\n",
        "        self.std1 = std1\n",
        "        self.std2 = std2\n",
        "        self.std3 = std3\n",
        "        self.__pre = pre\n",
        "        self.__mid = mid\n",
        "        self.__fin = fin\n",
        "\n",
        "\n",
        "    def __average(self, grades):\n",
        "        return sum(grades) / len(grades)\n",
        "\n",
        "    def grade(self):\n",
        "        pre_avg = [self.__average([self.__pre[i]]) for i in range(3)]\n",
        "        mid_avg = [self.__average([self.__mid[i]]) for i in range(3)]\n",
        "        fin_avg = [self.__average([self.__fin[i]]) for i in range(3)]\n",
        "\n",
        "        return {\n",
        "            self.std1: {'Preliminary': pre_avg[0], 'Mid-term': mid_avg[0], 'Final': fin_avg[0]},\n",
        "            self.std2: {'Preliminary': pre_avg[1], 'Mid-term': mid_avg[1], 'Final': fin_avg[1]},\n",
        "            self.std3: {'Preliminary': pre_avg[2], 'Mid-term': mid_avg[2], 'Final': fin_avg[2]},\n",
        "        }\n",
        "\n",
        "students = Person(\n",
        "    std1=\"Student (1)bri\",\n",
        "    std2=\"Student (2)gio\",\n",
        "    std3=\"Student (3)lex\",\n",
        "    pre=[80, 85, 90],\n",
        "    mid=[75, 80, 85],\n",
        "    fin=[90, 88, 92]\n",
        ")\n",
        "\n",
        "grades_info = students.grade()\n",
        "\n",
        "for student, grades in grades_info.items():\n",
        "    print(f\"{student}:\")\n",
        "    print(f\"  Preliminary Average: {grades['Preliminary']:.2f}\")\n",
        "    print(f\"  Mid-term Average: {grades['Mid-term']:.2f}\")\n",
        "    print(f\"  Final Average: {grades['Final']:.2f}\")\n",
        "    print()\n"
      ],
      "metadata": {
        "id": "77btH8TATsmB",
        "outputId": "096e623a-2f10-4e1d-8f30-069496c1da84",
        "colab": {
          "base_uri": "https://localhost:8080/"
        }
      },
      "execution_count": 34,
      "outputs": [
        {
          "output_type": "stream",
          "name": "stdout",
          "text": [
            "Student (1)bri:\n",
            "  Preliminary Average: 80.00\n",
            "  Mid-term Average: 75.00\n",
            "  Final Average: 90.00\n",
            "\n",
            "Student (2)gio:\n",
            "  Preliminary Average: 85.00\n",
            "  Mid-term Average: 80.00\n",
            "  Final Average: 88.00\n",
            "\n",
            "Student (3)lex:\n",
            "  Preliminary Average: 90.00\n",
            "  Mid-term Average: 85.00\n",
            "  Final Average: 92.00\n",
            "\n"
          ]
        }
      ]
    }
  ],
  "metadata": {
    "colab": {
      "name": "Welcome To Colab",
      "toc_visible": true,
      "provenance": [],
      "include_colab_link": true
    },
    "kernelspec": {
      "display_name": "Python 3",
      "name": "python3"
    }
  },
  "nbformat": 4,
  "nbformat_minor": 0
}