{
  "cells": [
    {
      "cell_type": "markdown",
      "metadata": {
        "id": "view-in-github",
        "colab_type": "text"
      },
      "source": [
        "<a href=\"https://colab.research.google.com/github/Gieo334/CPE-009B-CPE-21S1-OOP/blob/main/Welcome_To_Colab.ipynb\" target=\"_parent\"><img src=\"https://colab.research.google.com/assets/colab-badge.svg\" alt=\"Open In Colab\"/></a>"
      ]
    },
    {
      "cell_type": "code",
      "source": [
        "class Car:\n",
        "    def __init__(self, name, color):\n",
        "        self.name = name  # property name\n",
        "        self.color = color  # property color\n",
        "\n",
        "    def description(self):\n",
        "        return f\"The {self.name} car has a color {self.color}.\"\n",
        "\n",
        "# Creating an object of the Car class\n",
        "car = Car(\"Sedan\", \"black\")\n",
        "\n",
        "# Printing the description of the car\n",
        "print(car.description())\n"
      ],
      "metadata": {
        "id": "zuXC8r9UiHHh",
        "outputId": "5adacad1-226d-4fc3-a8ae-8f676660df73",
        "colab": {
          "base_uri": "https://localhost:8080/"
        }
      },
      "execution_count": 2,
      "outputs": [
        {
          "output_type": "stream",
          "name": "stdout",
          "text": [
            "The Sedan car has a color black.\n"
          ]
        }
      ]
    },
    {
      "cell_type": "code",
      "source": [
        "#inheritance\n",
        "class Car:\n",
        "    def __init__(self, name, color):\n",
        "        self.name = name  # property name/attributes\n",
        "        self.color = color\n",
        "\n",
        "    def description(self):\n",
        "        return f\"The {self.name} car has a color {self.color}.\"\n",
        "\n",
        "class BMW(Car):\n",
        "    # Inherits from Car but doesn't add any new behavior\n",
        "    pass\n",
        "\n",
        "class Audi(Car):\n",
        "    def audi_description(self):\n",
        "        return \"The description of this car is an Audi.\"\n",
        "\n",
        "# Creating objects of the subclasses\n",
        "bmw = BMW(\"A\", \"red\")\n",
        "audi = Audi(\"B\", \"blue\")\n",
        "\n",
        "# Printing descriptions\n",
        "print(bmw.description())\n",
        "print(audi.description())\n",
        "print(audi.audi_description())\n"
      ],
      "metadata": {
        "id": "zFxjlJRsmg2R",
        "outputId": "49cce03f-9981-4e3e-f41f-0dd733125cd4",
        "colab": {
          "base_uri": "https://localhost:8080/"
        }
      },
      "execution_count": 3,
      "outputs": [
        {
          "output_type": "stream",
          "name": "stdout",
          "text": [
            "The A car has a color red.\n",
            "The B car has a color blue.\n",
            "The description of this car is an Audi.\n"
          ]
        }
      ]
    }
  ],
  "metadata": {
    "colab": {
      "name": "Welcome To Colab",
      "provenance": [],
      "include_colab_link": true
    },
    "kernelspec": {
      "display_name": "Python 3",
      "name": "python3"
    }
  },
  "nbformat": 4,
  "nbformat_minor": 0
}