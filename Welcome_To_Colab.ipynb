{
  "cells": [
    {
      "cell_type": "markdown",
      "metadata": {
        "id": "view-in-github",
        "colab_type": "text"
      },
      "source": [
        "<a href=\"https://colab.research.google.com/github/Gieo334/CPE-009B-CPE-21S1-OOP/blob/main/Welcome_To_Colab.ipynb\" target=\"_parent\"><img src=\"https://colab.research.google.com/assets/colab-badge.svg\" alt=\"Open In Colab\"/></a>"
      ]
    },
    {
      "cell_type": "code",
      "source": [
        "#Polymorphysm\n",
        "\n",
        "class Person:\n",
        "  def __init__(self,name, age):\n",
        "      self.name = name\n",
        "      self.age = age\n",
        "\n",
        "#Inherits the attributes of a person\n",
        "class Student(Person):\n",
        "    def traits(self):\n",
        "        return(\"studying, palying, dancing, singing\")\n",
        "\n",
        "\n",
        "class Teacher(Person):\n",
        "    def traits(self):\n",
        "        return(\"teaching, socializing, participating\")\n",
        "\n",
        "student = Student(\"bri\",20)\n",
        "teacher = Teacher(\"Maam Sayo\",41)\n",
        "\n",
        "print(\"As a student, I do\",student.traits())\n",
        "print(\"As a teacher, I do\",teacher.traits())\n"
      ],
      "metadata": {
        "id": "mLmBy5HgSYOW",
        "outputId": "6bbfe2c7-7847-4e04-f22f-d54ee2ec73b4",
        "colab": {
          "base_uri": "https://localhost:8080/"
        }
      },
      "execution_count": 15,
      "outputs": [
        {
          "output_type": "stream",
          "name": "stdout",
          "text": [
            "As a student, I do studying, palying, dancing, singing\n",
            "As a teacher, I do teaching, socializing, participating\n"
          ]
        }
      ]
    },
    {
      "cell_type": "code",
      "source": [
        "#Challange 1\n",
        "\n",
        "\n",
        "class Player:\n",
        "    def __init__(self, name, age):\n",
        "        self.name = name\n",
        "        self.age = age\n",
        "\n",
        "# Inherits the attributes of Player\n",
        "class BasketballPlayer(Player):\n",
        "    def traits(self):\n",
        "        return \"dribbling, shooting, passing, rebounding\"\n",
        "\n",
        "class Coach(Player):\n",
        "    def traits(self):\n",
        "        return \"strategizing, training, motivating, analyzing\"\n",
        "\n",
        "basketball_player = BasketballPlayer(\"Jordan\", 23)\n",
        "coach = Coach(\"Coach Smith\", 45)\n",
        "\n",
        "print(\"As a basketball player, I do:\", basketball_player.traits())\n",
        "print(\"As a coach, I do:\", coach.traits())\n"
      ],
      "metadata": {
        "id": "peZERDlfZyFd",
        "outputId": "bfccf316-a1fd-4245-cb46-6d75d025dabf",
        "colab": {
          "base_uri": "https://localhost:8080/"
        }
      },
      "execution_count": 20,
      "outputs": [
        {
          "output_type": "stream",
          "name": "stdout",
          "text": [
            "As a basketball player, I do: dribbling, shooting, passing, rebounding\n",
            "As a coach, I do: strategizing, training, motivating, analyzing\n"
          ]
        }
      ]
    }
  ],
  "metadata": {
    "colab": {
      "name": "Welcome To Colab",
      "toc_visible": true,
      "provenance": [],
      "include_colab_link": true
    },
    "kernelspec": {
      "display_name": "Python 3",
      "name": "python3"
    }
  },
  "nbformat": 4,
  "nbformat_minor": 0
}