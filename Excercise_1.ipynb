{
  "nbformat": 4,
  "nbformat_minor": 0,
  "metadata": {
    "colab": {
      "provenance": [],
      "authorship_tag": "ABX9TyOvkAf/t8Urwg2gE9Mk8b6s",
      "include_colab_link": true
    },
    "kernelspec": {
      "name": "python3",
      "display_name": "Python 3"
    },
    "language_info": {
      "name": "python"
    }
  },
  "cells": [
    {
      "cell_type": "markdown",
      "metadata": {
        "id": "view-in-github",
        "colab_type": "text"
      },
      "source": [
        "<a href=\"https://colab.research.google.com/github/Gieo334/CPE-009B-CPE-21S1-OOP/blob/main/Excercise_1.ipynb\" target=\"_parent\"><img src=\"https://colab.research.google.com/assets/colab-badge.svg\" alt=\"Open In Colab\"/></a>"
      ]
    },
    {
      "cell_type": "markdown",
      "source": [
        "1.Variable and Data Types\n"
      ],
      "metadata": {
        "id": "yZdlLTUiRAI7"
      }
    },
    {
      "cell_type": "markdown",
      "source": [
        "Numbers"
      ],
      "metadata": {
        "id": "goaoL36ZRBTw"
      }
    },
    {
      "cell_type": "code",
      "source": [
        "varNum = 123\n",
        "pi = 3.14159\n"
      ],
      "metadata": {
        "id": "jGA3IszcRm94"
      },
      "execution_count": 18,
      "outputs": []
    },
    {
      "cell_type": "markdown",
      "source": [
        "Strings"
      ],
      "metadata": {
        "id": "NCPWsccuR5Zo"
      }
    },
    {
      "cell_type": "code",
      "source": [
        "varString = \"Hello WOrld!\"\n",
        "varText = 'this is a string'"
      ],
      "metadata": {
        "id": "5B-m0-zLR-bQ"
      },
      "execution_count": 19,
      "outputs": []
    },
    {
      "cell_type": "markdown",
      "source": [
        "LIst"
      ],
      "metadata": {
        "id": "n64K8SGJSN1R"
      }
    },
    {
      "cell_type": "code",
      "source": [
        "varList = [\"abc\",123]"
      ],
      "metadata": {
        "id": "wrk2ADRFSPTw"
      },
      "execution_count": 20,
      "outputs": []
    },
    {
      "cell_type": "markdown",
      "source": [
        "Tuples"
      ],
      "metadata": {
        "id": "xi3ggp3tSamo"
      }
    },
    {
      "cell_type": "code",
      "source": [
        "varTuple = 'abc',123,\"HELLO\""
      ],
      "metadata": {
        "id": "7AgIYTGySc4w"
      },
      "execution_count": null,
      "outputs": []
    },
    {
      "cell_type": "markdown",
      "source": [
        "Dictionaries"
      ],
      "metadata": {
        "id": "1lIQHiNjSm6o"
      }
    },
    {
      "cell_type": "code",
      "source": [
        "var = 3\n",
        "varDict = {'first':1, '2':'2nd', 3:var}"
      ],
      "metadata": {
        "id": "EIBMZNqBSo46"
      },
      "execution_count": null,
      "outputs": []
    },
    {
      "cell_type": "code",
      "source": [
        "varDict = {}\n",
        "varDict['first']= 1\n",
        "varDict['2'] = '2nd'\n",
        "varDict[3] = var"
      ],
      "metadata": {
        "colab": {
          "base_uri": "https://localhost:8080/",
          "height": 176
        },
        "collapsed": true,
        "id": "7fD-GrGcTS93",
        "outputId": "f701d681-8fb4-4791-d43f-5a8276acfe8b"
      },
      "execution_count": 3,
      "outputs": [
        {
          "output_type": "error",
          "ename": "NameError",
          "evalue": "name 'var' is not defined",
          "traceback": [
            "\u001b[0;31m---------------------------------------------------------------------------\u001b[0m",
            "\u001b[0;31mNameError\u001b[0m                                 Traceback (most recent call last)",
            "\u001b[0;32m<ipython-input-3-eb92fccecd29>\u001b[0m in \u001b[0;36m<cell line: 4>\u001b[0;34m()\u001b[0m\n\u001b[1;32m      2\u001b[0m \u001b[0mvarDict\u001b[0m\u001b[0;34m[\u001b[0m\u001b[0;34m'first'\u001b[0m\u001b[0;34m]\u001b[0m\u001b[0;34m=\u001b[0m \u001b[0;36m1\u001b[0m\u001b[0;34m\u001b[0m\u001b[0;34m\u001b[0m\u001b[0m\n\u001b[1;32m      3\u001b[0m \u001b[0mvarDict\u001b[0m\u001b[0;34m[\u001b[0m\u001b[0;34m'2'\u001b[0m\u001b[0;34m]\u001b[0m \u001b[0;34m=\u001b[0m \u001b[0;34m'2nd'\u001b[0m\u001b[0;34m\u001b[0m\u001b[0;34m\u001b[0m\u001b[0m\n\u001b[0;32m----> 4\u001b[0;31m \u001b[0mvarDict\u001b[0m \u001b[0;34m=\u001b[0m \u001b[0mvar\u001b[0m\u001b[0;34m\u001b[0m\u001b[0;34m\u001b[0m\u001b[0m\n\u001b[0m",
            "\u001b[0;31mNameError\u001b[0m: name 'var' is not defined"
          ]
        }
      ]
    },
    {
      "cell_type": "markdown",
      "source": [
        "Arithmetic\n",
        "\n",
        "Addition"
      ],
      "metadata": {
        "id": "uM27qVcSTr0B"
      }
    },
    {
      "cell_type": "code",
      "source": [
        "a = 5 + 3\n"
      ],
      "metadata": {
        "id": "oXrW2w5wT3-Q"
      },
      "execution_count": null,
      "outputs": []
    },
    {
      "cell_type": "markdown",
      "source": [
        "Subtraction"
      ],
      "metadata": {
        "id": "kdeibJgNT9oX"
      }
    },
    {
      "cell_type": "code",
      "source": [
        " a = 5 - 3\n",
        " a\n",
        "\n",
        ""
      ],
      "metadata": {
        "colab": {
          "base_uri": "https://localhost:8080/"
        },
        "collapsed": true,
        "id": "YP6ws1TRURYo",
        "outputId": "aabdbbf4-e12d-45b0-af93-13e1d7aea681"
      },
      "execution_count": 9,
      "outputs": [
        {
          "output_type": "execute_result",
          "data": {
            "text/plain": [
              "2"
            ]
          },
          "metadata": {},
          "execution_count": 9
        }
      ]
    },
    {
      "cell_type": "markdown",
      "source": [
        "Multiplication"
      ],
      "metadata": {
        "id": "zzmM8OxjVEZf"
      }
    },
    {
      "cell_type": "code",
      "source": [
        "a = 5 * 3\n",
        "a"
      ],
      "metadata": {
        "colab": {
          "base_uri": "https://localhost:8080/"
        },
        "id": "RLHgDMQBVHWX",
        "outputId": "6ffd57d3-bb80-428a-d6cc-ba7618fc1bdd"
      },
      "execution_count": 10,
      "outputs": [
        {
          "output_type": "execute_result",
          "data": {
            "text/plain": [
              "15"
            ]
          },
          "metadata": {},
          "execution_count": 10
        }
      ]
    },
    {
      "cell_type": "markdown",
      "source": [
        "Exponent"
      ],
      "metadata": {
        "id": "35bjR5lAVNT_"
      }
    },
    {
      "cell_type": "code",
      "source": [
        "a = 5 ** 3\n",
        "a"
      ],
      "metadata": {
        "colab": {
          "base_uri": "https://localhost:8080/"
        },
        "id": "dfFty_cWVP4f",
        "outputId": "abaf33d4-4927-444c-aa00-c98309abbadb"
      },
      "execution_count": 11,
      "outputs": [
        {
          "output_type": "execute_result",
          "data": {
            "text/plain": [
              "125"
            ]
          },
          "metadata": {},
          "execution_count": 11
        }
      ]
    },
    {
      "cell_type": "markdown",
      "source": [
        "Division"
      ],
      "metadata": {
        "id": "rHa3l7VVVUHH"
      }
    },
    {
      "cell_type": "code",
      "source": [
        "a = 5 / 3\n",
        "a"
      ],
      "metadata": {
        "colab": {
          "base_uri": "https://localhost:8080/"
        },
        "id": "OIp7nX3kVbkn",
        "outputId": "85283bc8-3a57-473e-ba8a-97c92ac129e5"
      },
      "execution_count": 12,
      "outputs": [
        {
          "output_type": "execute_result",
          "data": {
            "text/plain": [
              "1.6666666666666667"
            ]
          },
          "metadata": {},
          "execution_count": 12
        }
      ]
    },
    {
      "cell_type": "code",
      "source": [
        "a = 5 % 3\n",
        "a"
      ],
      "metadata": {
        "colab": {
          "base_uri": "https://localhost:8080/"
        },
        "id": "KipPGthQVjuP",
        "outputId": "dfcfd433-aeaf-47a7-d1e0-74c889b89e12"
      },
      "execution_count": 14,
      "outputs": [
        {
          "output_type": "execute_result",
          "data": {
            "text/plain": [
              "2"
            ]
          },
          "metadata": {},
          "execution_count": 14
        }
      ]
    },
    {
      "cell_type": "code",
      "source": [
        "a = 5 // 3\n",
        "a"
      ],
      "metadata": {
        "colab": {
          "base_uri": "https://localhost:8080/"
        },
        "id": "yRIN7gTTVuDy",
        "outputId": "36b9f27c-7e40-44a2-d3ee-c291e87c9cc0"
      },
      "execution_count": 15,
      "outputs": [
        {
          "output_type": "execute_result",
          "data": {
            "text/plain": [
              "1"
            ]
          },
          "metadata": {},
          "execution_count": 15
        }
      ]
    },
    {
      "cell_type": "markdown",
      "source": [
        "Conditional Statements"
      ],
      "metadata": {
        "id": "PSazqytPVy7P"
      }
    },
    {
      "cell_type": "markdown",
      "source": [
        "Boolean Conditions"
      ],
      "metadata": {
        "id": "RUjH7sU7V21v"
      }
    },
    {
      "cell_type": "code",
      "source": [
        "x = True\n",
        "\n",
        "if x:\n",
        "    print(\"var x is True\")\n",
        "else:\n",
        "  print(\"var x is False\")\n",
        ">var x is True"
      ],
      "metadata": {
        "id": "T1j3LTBgV7wn"
      },
      "execution_count": null,
      "outputs": []
    },
    {
      "cell_type": "markdown",
      "source": [
        "String Conditions"
      ],
      "metadata": {
        "id": "OOudpZEUWg4o"
      }
    },
    {
      "cell_type": "code",
      "source": [
        "x = \"hello World!\"\n",
        "\n",
        "if x == 'Hello World!':\n",
        "  print (\"var x is Hello World!\")\n",
        "  else:\n",
        "    print(\"var x is not Hello World!\")\n",
        ""
      ],
      "metadata": {
        "colab": {
          "base_uri": "https://localhost:8080/",
          "height": 106
        },
        "collapsed": true,
        "id": "yzTAz5sgWkrP",
        "outputId": "ad9ffde5-a5f1-4b1d-c40b-7e76fbf840fa"
      },
      "execution_count": 17,
      "outputs": [
        {
          "output_type": "error",
          "ename": "SyntaxError",
          "evalue": "invalid syntax (<ipython-input-17-fb53eee1a9d3>, line 5)",
          "traceback": [
            "\u001b[0;36m  File \u001b[0;32m\"<ipython-input-17-fb53eee1a9d3>\"\u001b[0;36m, line \u001b[0;32m5\u001b[0m\n\u001b[0;31m    else:\u001b[0m\n\u001b[0m    ^\u001b[0m\n\u001b[0;31mSyntaxError\u001b[0m\u001b[0;31m:\u001b[0m invalid syntax\n"
          ]
        }
      ]
    },
    {
      "cell_type": "markdown",
      "source": [
        " >var is Hello WOrld!"
      ],
      "metadata": {
        "id": "iDxXJSivXURa"
      }
    },
    {
      "cell_type": "markdown",
      "source": [
        "Numerical Conditions"
      ],
      "metadata": {
        "id": "WC0Z5PdCXbQf"
      }
    },
    {
      "cell_type": "code",
      "source": [
        "x = 10\n",
        "\n",
        "if x == '10':\n",
        "  print (\"var x is a string\")\n",
        "  elif x == 10:\n",
        "    print (\"var x is an integer\")\n",
        "    else:\n",
        "      print(\"var is none of the above\")"
      ],
      "metadata": {
        "id": "DBqWmIAqXdkf"
      },
      "execution_count": null,
      "outputs": []
    },
    {
      "cell_type": "markdown",
      "source": [
        "var x is an integer"
      ],
      "metadata": {
        "id": "VNT7SUypYE9Y"
      }
    },
    {
      "cell_type": "markdown",
      "source": [
        "Loops"
      ],
      "metadata": {
        "id": "838-lqv1YTnf"
      }
    },
    {
      "cell_type": "markdown",
      "source": [
        "For Loops"
      ],
      "metadata": {
        "id": "Ya3Am-ryYb5P"
      }
    },
    {
      "cell_type": "code",
      "source": [
        "for var in range(0,5,2):\n",
        "  print(var)"
      ],
      "metadata": {
        "colab": {
          "base_uri": "https://localhost:8080/"
        },
        "id": "xSv2OFx2Yedn",
        "outputId": "54ee127c-8552-406e-a4aa-cfa6a9ba2934"
      },
      "execution_count": 21,
      "outputs": [
        {
          "output_type": "stream",
          "name": "stdout",
          "text": [
            "0\n",
            "2\n",
            "4\n"
          ]
        }
      ]
    },
    {
      "cell_type": "markdown",
      "source": [
        "While Loops"
      ],
      "metadata": {
        "id": "Q9HlpYgnY_T_"
      }
    },
    {
      "cell_type": "code",
      "source": [
        "var = 0\n",
        "while var <5:\n",
        "  print(var)\n",
        "  var+= 2"
      ],
      "metadata": {
        "colab": {
          "base_uri": "https://localhost:8080/"
        },
        "id": "pGIti1qHZBMH",
        "outputId": "f0e25f71-7e1f-4213-81d7-41ac087175ed"
      },
      "execution_count": 22,
      "outputs": [
        {
          "output_type": "stream",
          "name": "stdout",
          "text": [
            "0\n",
            "2\n",
            "4\n"
          ]
        }
      ]
    },
    {
      "cell_type": "markdown",
      "source": [
        "Nested Loops"
      ],
      "metadata": {
        "id": "oqDFJZY-ZKp_"
      }
    },
    {
      "cell_type": "code",
      "source": [
        "x = 0\n",
        "while x <5:\n",
        "  for y in range (0,x):\n",
        "    print(y, end='')\n",
        "    x += 1\n",
        "    print()"
      ],
      "metadata": {
        "id": "gpTz-hR9ZNen"
      },
      "execution_count": null,
      "outputs": []
    },
    {
      "cell_type": "markdown",
      "source": [
        "*Note:The loop decleration ends with a colo(:)while its contents inside are indented"
      ],
      "metadata": {
        "id": "U5Sji2e9ZlUn"
      }
    },
    {
      "cell_type": "markdown",
      "source": [
        "Can contain a number of values comprised of different datatypes"
      ],
      "metadata": {
        "id": "Wi2VuO7uaBlG"
      }
    },
    {
      "cell_type": "code",
      "source": [
        "pi = 3.14159\n",
        "varlist = [1,2,'A','B'','Hello!', pi]\n",
        "print(varList[0])"
      ],
      "metadata": {
        "id": "y3CDWQBwaLoH"
      },
      "execution_count": null,
      "outputs": []
    },
    {
      "cell_type": "code",
      "source": [
        "print(varList[4])"
      ],
      "metadata": {
        "id": "76jWg2sOa3tz"
      },
      "execution_count": null,
      "outputs": []
    },
    {
      "cell_type": "code",
      "source": [
        "varList.append('World!')\n",
        "print(varList[6])"
      ],
      "metadata": {
        "id": "pNFmGm3la9dQ"
      },
      "execution_count": null,
      "outputs": []
    },
    {
      "cell_type": "code",
      "source": [
        "len(varList)"
      ],
      "metadata": {
        "id": "233VILoWbOKI"
      },
      "execution_count": null,
      "outputs": []
    },
    {
      "cell_type": "code",
      "source": [
        "print(varList[5])"
      ],
      "metadata": {
        "id": "5WF1U3AbbTyv"
      },
      "execution_count": null,
      "outputs": []
    },
    {
      "cell_type": "code",
      "source": [
        "varList.remove(pi)\n",
        "print(varList[5])"
      ],
      "metadata": {
        "id": "5BWC0QEibb2A"
      },
      "execution_count": null,
      "outputs": []
    },
    {
      "cell_type": "markdown",
      "source": [
        "*Note:List starts with an index of 0.\n",
        "The remove()method erases the first value that mathces the parameter."
      ],
      "metadata": {
        "id": "-yn6IW7hbnwn"
      }
    },
    {
      "cell_type": "markdown",
      "source": [
        "Dictionaries"
      ],
      "metadata": {
        "id": "vfYwbF64cMo3"
      }
    },
    {
      "cell_type": "code",
      "source": [
        "var = \"Hello world!\"\n",
        "varDict = {'first' : 123, 2 : 'abc'}\n",
        "'3' : var, 4 : ['lista', 'listb']}\n",
        "print(varDict['first'])"
      ],
      "metadata": {
        "id": "-1aq3-oXcOTf"
      },
      "execution_count": null,
      "outputs": []
    },
    {
      "cell_type": "code",
      "source": [
        "print(varDict[2])"
      ],
      "metadata": {
        "id": "E6xTXflYdTOX"
      },
      "execution_count": null,
      "outputs": []
    },
    {
      "cell_type": "code",
      "source": [
        "print(varDict['3'])\n"
      ],
      "metadata": {
        "id": "Cpow4rHKdYEo"
      },
      "execution_count": null,
      "outputs": []
    },
    {
      "cell_type": "code",
      "source": [
        "print(varDict[4])"
      ],
      "metadata": {
        "id": "Fq5lTt0ndk8h"
      },
      "execution_count": null,
      "outputs": []
    },
    {
      "cell_type": "code",
      "source": [
        "print(varDict[4][1])"
      ],
      "metadata": {
        "id": "JNJRrvcKdnO3"
      },
      "execution_count": null,
      "outputs": []
    },
    {
      "cell_type": "code",
      "source": [
        "len(varDict)"
      ],
      "metadata": {
        "id": "KIMtGrdjdsrf"
      },
      "execution_count": null,
      "outputs": []
    },
    {
      "cell_type": "markdown",
      "source": [
        "List generations and Comprehension"
      ],
      "metadata": {
        "id": "oCo-auQreFe3"
      }
    },
    {
      "cell_type": "markdown",
      "source": [
        "Generate can be used to build list in the memory as objects"
      ],
      "metadata": {
        "id": "zfAM3HzjeKBn"
      }
    },
    {
      "cell_type": "code",
      "source": [
        "def gen_num_upto(n):\n",
        "  num = 0\n",
        "  while num < n:\n",
        "    yield num\n",
        "    num+= 1\n",
        "\n",
        "    gen_num_upto(5)"
      ],
      "metadata": {
        "id": "qURXyK_YeRgO"
      },
      "execution_count": null,
      "outputs": []
    },
    {
      "cell_type": "markdown",
      "source": [
        "*note:This creates an object"
      ],
      "metadata": {
        "id": "SWfvylqXezmv"
      }
    },
    {
      "cell_type": "code",
      "source": [
        "varList = gen_num_up_to(5)\n",
        "print([var for var in varList])\n"
      ],
      "metadata": {
        "id": "kMepYfNQe37_"
      },
      "execution_count": null,
      "outputs": []
    },
    {
      "cell_type": "code",
      "source": [
        "defgen_num_upto(n):\n",
        "  num = 0\n",
        "  while num< n:\n",
        "    yield num\n",
        "    num += 2\n",
        "    varList = gen_num_up_to(5)\n",
        "    print([var for var in varList])"
      ],
      "metadata": {
        "id": "QukiVvXafKXl"
      },
      "execution_count": null,
      "outputs": []
    },
    {
      "cell_type": "markdown",
      "source": [
        "Functions"
      ],
      "metadata": {
        "id": "3yIro4IHfsLJ"
      }
    },
    {
      "cell_type": "markdown",
      "source": [
        "Phython functions use the following notation:"
      ],
      "metadata": {
        "id": "lbawOyA7fuDw"
      }
    },
    {
      "cell_type": "code",
      "source": [
        "deffunction name:\n",
        "    commands"
      ],
      "metadata": {
        "id": "6rKAG-gHgDu1"
      },
      "execution_count": null,
      "outputs": []
    },
    {
      "cell_type": "code",
      "source": [
        "def reminder(n,a):\n",
        "  while True:\n",
        "    if n - n < 0:\n",
        "      return n\n",
        "      else:\n",
        "        n = n\n",
        "        remainder(10,4)"
      ],
      "metadata": {
        "id": "xF_H2dm2gNGb"
      },
      "execution_count": null,
      "outputs": []
    },
    {
      "cell_type": "markdown",
      "source": [
        "*note:Function are defined with the keyboard def before the function name.Similar to loops,the function definition ends with a colon() while its contents inside are intdented."
      ],
      "metadata": {
        "id": "Ycoh7qr_goIK"
      }
    }
  ]
}