{
  "nbformat": 4,
  "nbformat_minor": 0,
  "metadata": {
    "colab": {
      "provenance": [],
      "authorship_tag": "ABX9TyO4GCzpcry8zupweoXs29u2",
      "include_colab_link": true
    },
    "kernelspec": {
      "name": "python3",
      "display_name": "Python 3"
    },
    "language_info": {
      "name": "python"
    }
  },
  "cells": [
    {
      "cell_type": "markdown",
      "metadata": {
        "id": "view-in-github",
        "colab_type": "text"
      },
      "source": [
        "<a href=\"https://colab.research.google.com/github/Gieo334/CPE-009B-CPE-21S1-OOP/blob/main/exercise_2.ipynb\" target=\"_parent\"><img src=\"https://colab.research.google.com/assets/colab-badge.svg\" alt=\"Open In Colab\"/></a>"
      ]
    },
    {
      "cell_type": "code",
      "execution_count": null,
      "metadata": {
        "id": "zitmT5cIQVPA"
      },
      "outputs": [],
      "source": [
        "grade=float(input(\"Input Grade: \"))\n",
        "\n",
        "if grade<0:\n",
        "  print(f\"You got a grade of\", {grade})\n",
        "elif grade>=75:\n",
        "  print(f\"You got a grade of\", {grade},\"Passed!\")\n",
        "elif grade==74:\n",
        "  print(f\"You got a grade of\", {grade}, \"Failed you need to take a remidial!\")\n",
        "else:\n",
        "  print(f\"You got a grade of\", {grade}, \"Failed you need to take a remidial!\")"
      ]
    }
  ]
}